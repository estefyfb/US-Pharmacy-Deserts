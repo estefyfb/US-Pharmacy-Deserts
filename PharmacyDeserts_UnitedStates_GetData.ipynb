{
 "cells": [
  {
   "cell_type": "markdown",
   "id": "14e1d0aa",
   "metadata": {},
   "source": [
    "# Retrieve all Datasets for Pharmacy Desert Analysis and Export to SQL Server"
   ]
  },
  {
   "cell_type": "code",
   "execution_count": 1,
   "id": "17cc15ab",
   "metadata": {},
   "outputs": [],
   "source": [
    "import cenpy\n",
    "import pandas as pd\n",
    "import numpy as np\n",
    "import geopandas as gpd\n",
    "import shapely\n",
    "import sqlalchemy\n",
    "from sqlalchemy.types import String, Integer, Numeric, VARCHAR, BigInteger\n",
    "import urllib\n",
    "import sys\n",
    "from tqdm import tqdm"
   ]
  },
  {
   "cell_type": "markdown",
   "id": "59e7c1bf",
   "metadata": {},
   "source": [
    "## Datasets Required"
   ]
  },
  {
   "cell_type": "markdown",
   "id": "b01200a9",
   "metadata": {},
   "source": [
    "- State FIPS codes\n",
    "- Center of population at block-group level (2020)\n",
    "- ACS 2020 5-year estimates: block group population\n",
    "- ACS 2020 5-year estimates: housing units\n",
    "- TIGER/Line block group shapefiles (2020)\n",
    "- Relationship file for 2020 block group to 2010 block group (may use to link ADI data)"
   ]
  },
  {
   "cell_type": "markdown",
   "id": "517b9221",
   "metadata": {},
   "source": [
    "## Get State FIPS from Census Website"
   ]
  },
  {
   "cell_type": "code",
   "execution_count": 6,
   "id": "5229b4c7",
   "metadata": {},
   "outputs": [
    {
     "data": {
      "text/html": [
       "<div>\n",
       "<style scoped>\n",
       "    .dataframe tbody tr th:only-of-type {\n",
       "        vertical-align: middle;\n",
       "    }\n",
       "\n",
       "    .dataframe tbody tr th {\n",
       "        vertical-align: top;\n",
       "    }\n",
       "\n",
       "    .dataframe thead th {\n",
       "        text-align: right;\n",
       "    }\n",
       "</style>\n",
       "<table border=\"1\" class=\"dataframe\">\n",
       "  <thead>\n",
       "    <tr style=\"text-align: right;\">\n",
       "      <th></th>\n",
       "      <th>state_fips</th>\n",
       "      <th>usps_code</th>\n",
       "      <th>state_name</th>\n",
       "    </tr>\n",
       "  </thead>\n",
       "  <tbody>\n",
       "    <tr>\n",
       "      <th>0</th>\n",
       "      <td>01</td>\n",
       "      <td>AL</td>\n",
       "      <td>Alabama</td>\n",
       "    </tr>\n",
       "    <tr>\n",
       "      <th>1</th>\n",
       "      <td>02</td>\n",
       "      <td>AK</td>\n",
       "      <td>Alaska</td>\n",
       "    </tr>\n",
       "    <tr>\n",
       "      <th>2</th>\n",
       "      <td>04</td>\n",
       "      <td>AZ</td>\n",
       "      <td>Arizona</td>\n",
       "    </tr>\n",
       "    <tr>\n",
       "      <th>3</th>\n",
       "      <td>05</td>\n",
       "      <td>AR</td>\n",
       "      <td>Arkansas</td>\n",
       "    </tr>\n",
       "    <tr>\n",
       "      <th>4</th>\n",
       "      <td>06</td>\n",
       "      <td>CA</td>\n",
       "      <td>California</td>\n",
       "    </tr>\n",
       "  </tbody>\n",
       "</table>\n",
       "</div>"
      ],
      "text/plain": [
       "  state_fips usps_code  state_name\n",
       "0         01        AL     Alabama\n",
       "1         02        AK      Alaska\n",
       "2         04        AZ     Arizona\n",
       "3         05        AR    Arkansas\n",
       "4         06        CA  California"
      ]
     },
     "execution_count": 6,
     "metadata": {},
     "output_type": "execute_result"
    }
   ],
   "source": [
    "states_url = 'https://www2.census.gov/geo/docs/reference/state.txt'\n",
    "col_names = ['state_fips', 'usps_code', 'state_name']\n",
    "state_codes = pd.read_csv(states_url, sep='|', header=0, names=col_names, \n",
    "                          dtype=str, usecols=[0,1,2])\n",
    "state_codes.head()"
   ]
  },
  {
   "cell_type": "code",
   "execution_count": 3,
   "id": "1d27b469",
   "metadata": {},
   "outputs": [
    {
     "data": {
      "text/html": [
       "<div>\n",
       "<style scoped>\n",
       "    .dataframe tbody tr th:only-of-type {\n",
       "        vertical-align: middle;\n",
       "    }\n",
       "\n",
       "    .dataframe tbody tr th {\n",
       "        vertical-align: top;\n",
       "    }\n",
       "\n",
       "    .dataframe thead th {\n",
       "        text-align: right;\n",
       "    }\n",
       "</style>\n",
       "<table border=\"1\" class=\"dataframe\">\n",
       "  <thead>\n",
       "    <tr style=\"text-align: right;\">\n",
       "      <th></th>\n",
       "      <th>state_fips</th>\n",
       "      <th>usps_code</th>\n",
       "      <th>state_name</th>\n",
       "    </tr>\n",
       "  </thead>\n",
       "  <tbody>\n",
       "    <tr>\n",
       "      <th>50</th>\n",
       "      <td>56</td>\n",
       "      <td>WY</td>\n",
       "      <td>Wyoming</td>\n",
       "    </tr>\n",
       "    <tr>\n",
       "      <th>51</th>\n",
       "      <td>60</td>\n",
       "      <td>AS</td>\n",
       "      <td>American Samoa</td>\n",
       "    </tr>\n",
       "    <tr>\n",
       "      <th>52</th>\n",
       "      <td>66</td>\n",
       "      <td>GU</td>\n",
       "      <td>Guam</td>\n",
       "    </tr>\n",
       "    <tr>\n",
       "      <th>53</th>\n",
       "      <td>69</td>\n",
       "      <td>MP</td>\n",
       "      <td>Northern Mariana Islands</td>\n",
       "    </tr>\n",
       "    <tr>\n",
       "      <th>54</th>\n",
       "      <td>72</td>\n",
       "      <td>PR</td>\n",
       "      <td>Puerto Rico</td>\n",
       "    </tr>\n",
       "    <tr>\n",
       "      <th>55</th>\n",
       "      <td>74</td>\n",
       "      <td>UM</td>\n",
       "      <td>U.S. Minor Outlying Islands</td>\n",
       "    </tr>\n",
       "    <tr>\n",
       "      <th>56</th>\n",
       "      <td>78</td>\n",
       "      <td>VI</td>\n",
       "      <td>U.S. Virgin Islands</td>\n",
       "    </tr>\n",
       "  </tbody>\n",
       "</table>\n",
       "</div>"
      ],
      "text/plain": [
       "   state_fips usps_code                   state_name\n",
       "50         56        WY                      Wyoming\n",
       "51         60        AS               American Samoa\n",
       "52         66        GU                         Guam\n",
       "53         69        MP     Northern Mariana Islands\n",
       "54         72        PR                  Puerto Rico\n",
       "55         74        UM  U.S. Minor Outlying Islands\n",
       "56         78        VI          U.S. Virgin Islands"
      ]
     },
     "execution_count": 3,
     "metadata": {},
     "output_type": "execute_result"
    }
   ],
   "source": [
    "state_codes[50:]"
   ]
  },
  {
   "cell_type": "markdown",
   "id": "1f1ae6a1",
   "metadata": {},
   "source": [
    "FIPS > 56 are not areas I will analyze. "
   ]
  },
  {
   "cell_type": "code",
   "execution_count": 7,
   "id": "4c71eb7c",
   "metadata": {},
   "outputs": [
    {
     "name": "stdout",
     "output_type": "stream",
     "text": [
      "<class 'pandas.core.frame.DataFrame'>\n",
      "RangeIndex: 51 entries, 0 to 50\n",
      "Data columns (total 3 columns):\n",
      " #   Column      Non-Null Count  Dtype \n",
      "---  ------      --------------  ----- \n",
      " 0   state_fips  51 non-null     object\n",
      " 1   usps_code   51 non-null     object\n",
      " 2   state_name  51 non-null     object\n",
      "dtypes: object(3)\n",
      "memory usage: 1.3+ KB\n"
     ]
    }
   ],
   "source": [
    "# Keep codes only for 50 states + DC\n",
    "state_codes = state_codes[:51]\n",
    "state_codes.info()"
   ]
  },
  {
   "cell_type": "code",
   "execution_count": 8,
   "id": "afdb3ec0",
   "metadata": {
    "scrolled": true
   },
   "outputs": [
    {
     "data": {
      "text/html": [
       "<div>\n",
       "<style scoped>\n",
       "    .dataframe tbody tr th:only-of-type {\n",
       "        vertical-align: middle;\n",
       "    }\n",
       "\n",
       "    .dataframe tbody tr th {\n",
       "        vertical-align: top;\n",
       "    }\n",
       "\n",
       "    .dataframe thead th {\n",
       "        text-align: right;\n",
       "    }\n",
       "</style>\n",
       "<table border=\"1\" class=\"dataframe\">\n",
       "  <thead>\n",
       "    <tr style=\"text-align: right;\">\n",
       "      <th></th>\n",
       "      <th>state_fips</th>\n",
       "      <th>usps_code</th>\n",
       "      <th>state_name</th>\n",
       "    </tr>\n",
       "  </thead>\n",
       "  <tbody>\n",
       "    <tr>\n",
       "      <th>0</th>\n",
       "      <td>01</td>\n",
       "      <td>AL</td>\n",
       "      <td>Alabama</td>\n",
       "    </tr>\n",
       "    <tr>\n",
       "      <th>1</th>\n",
       "      <td>02</td>\n",
       "      <td>AK</td>\n",
       "      <td>Alaska</td>\n",
       "    </tr>\n",
       "    <tr>\n",
       "      <th>2</th>\n",
       "      <td>04</td>\n",
       "      <td>AZ</td>\n",
       "      <td>Arizona</td>\n",
       "    </tr>\n",
       "    <tr>\n",
       "      <th>3</th>\n",
       "      <td>05</td>\n",
       "      <td>AR</td>\n",
       "      <td>Arkansas</td>\n",
       "    </tr>\n",
       "    <tr>\n",
       "      <th>4</th>\n",
       "      <td>06</td>\n",
       "      <td>CA</td>\n",
       "      <td>California</td>\n",
       "    </tr>\n",
       "    <tr>\n",
       "      <th>5</th>\n",
       "      <td>08</td>\n",
       "      <td>CO</td>\n",
       "      <td>Colorado</td>\n",
       "    </tr>\n",
       "    <tr>\n",
       "      <th>6</th>\n",
       "      <td>09</td>\n",
       "      <td>CT</td>\n",
       "      <td>Connecticut</td>\n",
       "    </tr>\n",
       "    <tr>\n",
       "      <th>7</th>\n",
       "      <td>10</td>\n",
       "      <td>DE</td>\n",
       "      <td>Delaware</td>\n",
       "    </tr>\n",
       "    <tr>\n",
       "      <th>8</th>\n",
       "      <td>11</td>\n",
       "      <td>DC</td>\n",
       "      <td>District of Columbia</td>\n",
       "    </tr>\n",
       "    <tr>\n",
       "      <th>9</th>\n",
       "      <td>12</td>\n",
       "      <td>FL</td>\n",
       "      <td>Florida</td>\n",
       "    </tr>\n",
       "    <tr>\n",
       "      <th>10</th>\n",
       "      <td>13</td>\n",
       "      <td>GA</td>\n",
       "      <td>Georgia</td>\n",
       "    </tr>\n",
       "    <tr>\n",
       "      <th>11</th>\n",
       "      <td>15</td>\n",
       "      <td>HI</td>\n",
       "      <td>Hawaii</td>\n",
       "    </tr>\n",
       "    <tr>\n",
       "      <th>12</th>\n",
       "      <td>16</td>\n",
       "      <td>ID</td>\n",
       "      <td>Idaho</td>\n",
       "    </tr>\n",
       "    <tr>\n",
       "      <th>13</th>\n",
       "      <td>17</td>\n",
       "      <td>IL</td>\n",
       "      <td>Illinois</td>\n",
       "    </tr>\n",
       "    <tr>\n",
       "      <th>14</th>\n",
       "      <td>18</td>\n",
       "      <td>IN</td>\n",
       "      <td>Indiana</td>\n",
       "    </tr>\n",
       "    <tr>\n",
       "      <th>15</th>\n",
       "      <td>19</td>\n",
       "      <td>IA</td>\n",
       "      <td>Iowa</td>\n",
       "    </tr>\n",
       "    <tr>\n",
       "      <th>16</th>\n",
       "      <td>20</td>\n",
       "      <td>KS</td>\n",
       "      <td>Kansas</td>\n",
       "    </tr>\n",
       "    <tr>\n",
       "      <th>17</th>\n",
       "      <td>21</td>\n",
       "      <td>KY</td>\n",
       "      <td>Kentucky</td>\n",
       "    </tr>\n",
       "    <tr>\n",
       "      <th>18</th>\n",
       "      <td>22</td>\n",
       "      <td>LA</td>\n",
       "      <td>Louisiana</td>\n",
       "    </tr>\n",
       "    <tr>\n",
       "      <th>19</th>\n",
       "      <td>23</td>\n",
       "      <td>ME</td>\n",
       "      <td>Maine</td>\n",
       "    </tr>\n",
       "    <tr>\n",
       "      <th>20</th>\n",
       "      <td>24</td>\n",
       "      <td>MD</td>\n",
       "      <td>Maryland</td>\n",
       "    </tr>\n",
       "    <tr>\n",
       "      <th>21</th>\n",
       "      <td>25</td>\n",
       "      <td>MA</td>\n",
       "      <td>Massachusetts</td>\n",
       "    </tr>\n",
       "    <tr>\n",
       "      <th>22</th>\n",
       "      <td>26</td>\n",
       "      <td>MI</td>\n",
       "      <td>Michigan</td>\n",
       "    </tr>\n",
       "    <tr>\n",
       "      <th>23</th>\n",
       "      <td>27</td>\n",
       "      <td>MN</td>\n",
       "      <td>Minnesota</td>\n",
       "    </tr>\n",
       "    <tr>\n",
       "      <th>24</th>\n",
       "      <td>28</td>\n",
       "      <td>MS</td>\n",
       "      <td>Mississippi</td>\n",
       "    </tr>\n",
       "    <tr>\n",
       "      <th>25</th>\n",
       "      <td>29</td>\n",
       "      <td>MO</td>\n",
       "      <td>Missouri</td>\n",
       "    </tr>\n",
       "    <tr>\n",
       "      <th>26</th>\n",
       "      <td>30</td>\n",
       "      <td>MT</td>\n",
       "      <td>Montana</td>\n",
       "    </tr>\n",
       "    <tr>\n",
       "      <th>27</th>\n",
       "      <td>31</td>\n",
       "      <td>NE</td>\n",
       "      <td>Nebraska</td>\n",
       "    </tr>\n",
       "    <tr>\n",
       "      <th>28</th>\n",
       "      <td>32</td>\n",
       "      <td>NV</td>\n",
       "      <td>Nevada</td>\n",
       "    </tr>\n",
       "    <tr>\n",
       "      <th>29</th>\n",
       "      <td>33</td>\n",
       "      <td>NH</td>\n",
       "      <td>New Hampshire</td>\n",
       "    </tr>\n",
       "    <tr>\n",
       "      <th>30</th>\n",
       "      <td>34</td>\n",
       "      <td>NJ</td>\n",
       "      <td>New Jersey</td>\n",
       "    </tr>\n",
       "    <tr>\n",
       "      <th>31</th>\n",
       "      <td>35</td>\n",
       "      <td>NM</td>\n",
       "      <td>New Mexico</td>\n",
       "    </tr>\n",
       "    <tr>\n",
       "      <th>32</th>\n",
       "      <td>36</td>\n",
       "      <td>NY</td>\n",
       "      <td>New York</td>\n",
       "    </tr>\n",
       "    <tr>\n",
       "      <th>33</th>\n",
       "      <td>37</td>\n",
       "      <td>NC</td>\n",
       "      <td>North Carolina</td>\n",
       "    </tr>\n",
       "    <tr>\n",
       "      <th>34</th>\n",
       "      <td>38</td>\n",
       "      <td>ND</td>\n",
       "      <td>North Dakota</td>\n",
       "    </tr>\n",
       "    <tr>\n",
       "      <th>35</th>\n",
       "      <td>39</td>\n",
       "      <td>OH</td>\n",
       "      <td>Ohio</td>\n",
       "    </tr>\n",
       "    <tr>\n",
       "      <th>36</th>\n",
       "      <td>40</td>\n",
       "      <td>OK</td>\n",
       "      <td>Oklahoma</td>\n",
       "    </tr>\n",
       "    <tr>\n",
       "      <th>37</th>\n",
       "      <td>41</td>\n",
       "      <td>OR</td>\n",
       "      <td>Oregon</td>\n",
       "    </tr>\n",
       "    <tr>\n",
       "      <th>38</th>\n",
       "      <td>42</td>\n",
       "      <td>PA</td>\n",
       "      <td>Pennsylvania</td>\n",
       "    </tr>\n",
       "    <tr>\n",
       "      <th>39</th>\n",
       "      <td>44</td>\n",
       "      <td>RI</td>\n",
       "      <td>Rhode Island</td>\n",
       "    </tr>\n",
       "    <tr>\n",
       "      <th>40</th>\n",
       "      <td>45</td>\n",
       "      <td>SC</td>\n",
       "      <td>South Carolina</td>\n",
       "    </tr>\n",
       "    <tr>\n",
       "      <th>41</th>\n",
       "      <td>46</td>\n",
       "      <td>SD</td>\n",
       "      <td>South Dakota</td>\n",
       "    </tr>\n",
       "    <tr>\n",
       "      <th>42</th>\n",
       "      <td>47</td>\n",
       "      <td>TN</td>\n",
       "      <td>Tennessee</td>\n",
       "    </tr>\n",
       "    <tr>\n",
       "      <th>43</th>\n",
       "      <td>48</td>\n",
       "      <td>TX</td>\n",
       "      <td>Texas</td>\n",
       "    </tr>\n",
       "    <tr>\n",
       "      <th>44</th>\n",
       "      <td>49</td>\n",
       "      <td>UT</td>\n",
       "      <td>Utah</td>\n",
       "    </tr>\n",
       "    <tr>\n",
       "      <th>45</th>\n",
       "      <td>50</td>\n",
       "      <td>VT</td>\n",
       "      <td>Vermont</td>\n",
       "    </tr>\n",
       "    <tr>\n",
       "      <th>46</th>\n",
       "      <td>51</td>\n",
       "      <td>VA</td>\n",
       "      <td>Virginia</td>\n",
       "    </tr>\n",
       "    <tr>\n",
       "      <th>47</th>\n",
       "      <td>53</td>\n",
       "      <td>WA</td>\n",
       "      <td>Washington</td>\n",
       "    </tr>\n",
       "    <tr>\n",
       "      <th>48</th>\n",
       "      <td>54</td>\n",
       "      <td>WV</td>\n",
       "      <td>West Virginia</td>\n",
       "    </tr>\n",
       "    <tr>\n",
       "      <th>49</th>\n",
       "      <td>55</td>\n",
       "      <td>WI</td>\n",
       "      <td>Wisconsin</td>\n",
       "    </tr>\n",
       "    <tr>\n",
       "      <th>50</th>\n",
       "      <td>56</td>\n",
       "      <td>WY</td>\n",
       "      <td>Wyoming</td>\n",
       "    </tr>\n",
       "  </tbody>\n",
       "</table>\n",
       "</div>"
      ],
      "text/plain": [
       "   state_fips usps_code            state_name\n",
       "0          01        AL               Alabama\n",
       "1          02        AK                Alaska\n",
       "2          04        AZ               Arizona\n",
       "3          05        AR              Arkansas\n",
       "4          06        CA            California\n",
       "5          08        CO              Colorado\n",
       "6          09        CT           Connecticut\n",
       "7          10        DE              Delaware\n",
       "8          11        DC  District of Columbia\n",
       "9          12        FL               Florida\n",
       "10         13        GA               Georgia\n",
       "11         15        HI                Hawaii\n",
       "12         16        ID                 Idaho\n",
       "13         17        IL              Illinois\n",
       "14         18        IN               Indiana\n",
       "15         19        IA                  Iowa\n",
       "16         20        KS                Kansas\n",
       "17         21        KY              Kentucky\n",
       "18         22        LA             Louisiana\n",
       "19         23        ME                 Maine\n",
       "20         24        MD              Maryland\n",
       "21         25        MA         Massachusetts\n",
       "22         26        MI              Michigan\n",
       "23         27        MN             Minnesota\n",
       "24         28        MS           Mississippi\n",
       "25         29        MO              Missouri\n",
       "26         30        MT               Montana\n",
       "27         31        NE              Nebraska\n",
       "28         32        NV                Nevada\n",
       "29         33        NH         New Hampshire\n",
       "30         34        NJ            New Jersey\n",
       "31         35        NM            New Mexico\n",
       "32         36        NY              New York\n",
       "33         37        NC        North Carolina\n",
       "34         38        ND          North Dakota\n",
       "35         39        OH                  Ohio\n",
       "36         40        OK              Oklahoma\n",
       "37         41        OR                Oregon\n",
       "38         42        PA          Pennsylvania\n",
       "39         44        RI          Rhode Island\n",
       "40         45        SC        South Carolina\n",
       "41         46        SD          South Dakota\n",
       "42         47        TN             Tennessee\n",
       "43         48        TX                 Texas\n",
       "44         49        UT                  Utah\n",
       "45         50        VT               Vermont\n",
       "46         51        VA              Virginia\n",
       "47         53        WA            Washington\n",
       "48         54        WV         West Virginia\n",
       "49         55        WI             Wisconsin\n",
       "50         56        WY               Wyoming"
      ]
     },
     "execution_count": 8,
     "metadata": {},
     "output_type": "execute_result"
    }
   ],
   "source": [
    "state_codes"
   ]
  },
  {
   "cell_type": "markdown",
   "id": "b83e36c3",
   "metadata": {},
   "source": [
    "### Export to SQL Server"
   ]
  },
  {
   "cell_type": "code",
   "execution_count": 13,
   "id": "5b9408b6",
   "metadata": {},
   "outputs": [],
   "source": [
    "sql_types = {'state_fips': String(length=5), \n",
    "             'usps_code': String(length=2),\n",
    "             'state_name': String(length=30)}"
   ]
  },
  {
   "cell_type": "code",
   "execution_count": 14,
   "id": "ff4241d2",
   "metadata": {
    "scrolled": true
   },
   "outputs": [
    {
     "data": {
      "text/plain": [
       "51"
      ]
     },
     "execution_count": 14,
     "metadata": {},
     "output_type": "execute_result"
    }
   ],
   "source": [
    "# Connect to prxsql2019ml\n",
    "quoted = urllib.parse.quote_plus(\"DRIVER={SQL Server};SERVER=prxsql2019ml;DATABASE=PublicHealth\")\n",
    "engine = sqlalchemy.create_engine('mssql+pyodbc:///?odbc_connect={}'.format(quoted))\n",
    "\n",
    "# Export data\n",
    "state_codes.to_sql('StateFips', schema='Census', con=engine, chunksize=200, \n",
    "                   method='multi', dtype=sql_types,\n",
    "                   index=False, if_exists='replace')"
   ]
  },
  {
   "cell_type": "markdown",
   "id": "797634fd",
   "metadata": {},
   "source": [
    "## Block Group Relationship Files for 2020 vs 2010"
   ]
  },
  {
   "cell_type": "code",
   "execution_count": 7,
   "id": "a317a90b",
   "metadata": {},
   "outputs": [
    {
     "name": "stdout",
     "output_type": "stream",
     "text": [
      "<class 'pandas.core.frame.DataFrame'>\n",
      "RangeIndex: 337326 entries, 0 to 337325\n",
      "Data columns (total 6 columns):\n",
      " #   Column              Non-Null Count   Dtype \n",
      "---  ------              --------------   ----- \n",
      " 0   geoid_2020          337326 non-null  object\n",
      " 1   geoid_2010          337326 non-null  object\n",
      " 2   land_area_2010      337326 non-null  object\n",
      " 3   water_area_2010     337326 non-null  object\n",
      " 4   land_area_overlap   337326 non-null  object\n",
      " 5   water_area_overlap  337326 non-null  object\n",
      "dtypes: object(6)\n",
      "memory usage: 15.4+ MB\n",
      "None\n"
     ]
    },
    {
     "data": {
      "text/html": [
       "<div>\n",
       "<style scoped>\n",
       "    .dataframe tbody tr th:only-of-type {\n",
       "        vertical-align: middle;\n",
       "    }\n",
       "\n",
       "    .dataframe tbody tr th {\n",
       "        vertical-align: top;\n",
       "    }\n",
       "\n",
       "    .dataframe thead th {\n",
       "        text-align: right;\n",
       "    }\n",
       "</style>\n",
       "<table border=\"1\" class=\"dataframe\">\n",
       "  <thead>\n",
       "    <tr style=\"text-align: right;\">\n",
       "      <th></th>\n",
       "      <th>geoid_2020</th>\n",
       "      <th>geoid_2010</th>\n",
       "      <th>land_area_2010</th>\n",
       "      <th>water_area_2010</th>\n",
       "      <th>land_area_overlap</th>\n",
       "      <th>water_area_overlap</th>\n",
       "    </tr>\n",
       "  </thead>\n",
       "  <tbody>\n",
       "    <tr>\n",
       "      <th>0</th>\n",
       "      <td>010010201001</td>\n",
       "      <td>010010201001</td>\n",
       "      <td>4259443</td>\n",
       "      <td>28435</td>\n",
       "      <td>4259443</td>\n",
       "      <td>28435</td>\n",
       "    </tr>\n",
       "    <tr>\n",
       "      <th>1</th>\n",
       "      <td>010010201001</td>\n",
       "      <td>010010202002</td>\n",
       "      <td>1267300</td>\n",
       "      <td>5669</td>\n",
       "      <td>4856</td>\n",
       "      <td>0</td>\n",
       "    </tr>\n",
       "    <tr>\n",
       "      <th>2</th>\n",
       "      <td>010010201002</td>\n",
       "      <td>010010201002</td>\n",
       "      <td>5567828</td>\n",
       "      <td>0</td>\n",
       "      <td>5561005</td>\n",
       "      <td>0</td>\n",
       "    </tr>\n",
       "    <tr>\n",
       "      <th>3</th>\n",
       "      <td>010010202001</td>\n",
       "      <td>010010202001</td>\n",
       "      <td>2058374</td>\n",
       "      <td>0</td>\n",
       "      <td>2058374</td>\n",
       "      <td>0</td>\n",
       "    </tr>\n",
       "    <tr>\n",
       "      <th>4</th>\n",
       "      <td>010010202002</td>\n",
       "      <td>010010202002</td>\n",
       "      <td>1267300</td>\n",
       "      <td>5669</td>\n",
       "      <td>1262444</td>\n",
       "      <td>5669</td>\n",
       "    </tr>\n",
       "  </tbody>\n",
       "</table>\n",
       "</div>"
      ],
      "text/plain": [
       "     geoid_2020    geoid_2010 land_area_2010 water_area_2010  \\\n",
       "0  010010201001  010010201001        4259443           28435   \n",
       "1  010010201001  010010202002        1267300            5669   \n",
       "2  010010201002  010010201002        5567828               0   \n",
       "3  010010202001  010010202001        2058374               0   \n",
       "4  010010202002  010010202002        1267300            5669   \n",
       "\n",
       "  land_area_overlap water_area_overlap  \n",
       "0           4259443              28435  \n",
       "1              4856                  0  \n",
       "2           5561005                  0  \n",
       "3           2058374                  0  \n",
       "4           1262444               5669  "
      ]
     },
     "execution_count": 7,
     "metadata": {},
     "output_type": "execute_result"
    }
   ],
   "source": [
    "rel_url = 'https://www2.census.gov/geo/docs/maps-data/data/rel2020/blkgrp/tab20_blkgrp20_blkgrp10_natl.txt'\n",
    "col_names = ['geoid_2020', 'geoid_2010', 'land_area_2010', 'water_area_2010',\n",
    "             'land_area_overlap', 'water_area_overlap']\n",
    "bg_relationships = pd.read_csv(rel_url, sep='|', header=0, names=col_names,\n",
    "                               dtype=str, usecols=[1,8,10,11,14,15])\n",
    "print(bg_relationships.info())\n",
    "bg_relationships.head()"
   ]
  },
  {
   "cell_type": "code",
   "execution_count": 6,
   "id": "e5455f98",
   "metadata": {},
   "outputs": [
    {
     "name": "stdout",
     "output_type": "stream",
     "text": [
      "0 OID_BLKGRP_20\n",
      "1 GEOID_BLKGRP_20\n",
      "2 NAMELSAD_BLKGRP_20\n",
      "3 AREALAND_BLKGRP_20\n",
      "4 AREAWATER_BLKGRP_20\n",
      "5 MTFCC_BLKGRP_20\n",
      "6 FUNCSTAT_BLKGRP_20\n",
      "7 OID_BLKGRP_10\n",
      "8 GEOID_BLKGRP_10\n",
      "9 NAMELSAD_BLKGRP_10\n",
      "10 AREALAND_BLKGRP_10\n",
      "11 AREAWATER_BLKGRP_10\n",
      "12 MTFCC_BLKGRP_10\n",
      "13 FUNCSTAT_BLKGRP_10\n",
      "14 AREALAND_PART\n",
      "15 AREAWATER_PART\n"
     ]
    }
   ],
   "source": [
    "# Figure out which cols I need to keep\n",
    "for idx, col in enumerate(bg_relationships.columns.tolist()):\n",
    "    print(idx, col)"
   ]
  },
  {
   "cell_type": "code",
   "execution_count": 12,
   "id": "c03a181e",
   "metadata": {},
   "outputs": [
    {
     "name": "stdout",
     "output_type": "stream",
     "text": [
      "<class 'pandas.core.frame.DataFrame'>\n",
      "RangeIndex: 337326 entries, 0 to 337325\n",
      "Data columns (total 6 columns):\n",
      " #   Column              Non-Null Count   Dtype \n",
      "---  ------              --------------   ----- \n",
      " 0   geoid_2020          337326 non-null  object\n",
      " 1   geoid_2010          337326 non-null  object\n",
      " 2   land_area_2010      337326 non-null  int64 \n",
      " 3   water_area_2010     337326 non-null  int64 \n",
      " 4   land_area_overlap   337326 non-null  int64 \n",
      " 5   water_area_overlap  337326 non-null  int64 \n",
      "dtypes: int64(4), object(2)\n",
      "memory usage: 15.4+ MB\n"
     ]
    }
   ],
   "source": [
    "# Change data types\n",
    "convert_cols = ['land_area_2010', 'water_area_2010', 'land_area_overlap',\n",
    "                'water_area_overlap']\n",
    "bg_relationships[convert_cols] = bg_relationships[convert_cols].astype('int64')\n",
    "bg_relationships.info()"
   ]
  },
  {
   "cell_type": "markdown",
   "id": "a7c87455",
   "metadata": {},
   "source": [
    "### Export to SQL Server"
   ]
  },
  {
   "cell_type": "code",
   "execution_count": 13,
   "id": "c5c20ccb",
   "metadata": {},
   "outputs": [],
   "source": [
    "sql_types = {'geoid_2020':String(12),\n",
    "             'geoid_2010':String(12),\n",
    "             'land_area_2010':BigInteger(),\n",
    "             'water_area_2010':BigInteger(),\n",
    "             'land_area_overlap':BigInteger(),\n",
    "             'water_area_overlap':BigInteger()}"
   ]
  },
  {
   "cell_type": "code",
   "execution_count": 14,
   "id": "f3ec5ee3",
   "metadata": {
    "scrolled": true
   },
   "outputs": [
    {
     "data": {
      "text/plain": [
       "337326"
      ]
     },
     "execution_count": 14,
     "metadata": {},
     "output_type": "execute_result"
    }
   ],
   "source": [
    "# Connect to prxsql2019ml\n",
    "quoted = urllib.parse.quote_plus(\"DRIVER={SQL Server};SERVER=prxsql2019ml;DATABASE=PublicHealth\")\n",
    "engine = sqlalchemy.create_engine('mssql+pyodbc:///?odbc_connect={}'.format(quoted))\n",
    "\n",
    "# Export data\n",
    "bg_relationships.to_sql('BlockGroupRelationship_2020_2010', schema='Census', \n",
    "                        con=engine, chunksize=200, method='multi', \n",
    "                        dtype=sql_types, index=False, if_exists='replace')"
   ]
  },
  {
   "cell_type": "code",
   "execution_count": 8,
   "id": "9ed644fa",
   "metadata": {},
   "outputs": [
    {
     "data": {
      "text/plain": [
       "['geoid_2020',\n",
       " 'geoid_2010',\n",
       " 'land_area_2010',\n",
       " 'water_area_2010',\n",
       " 'land_area_overlap',\n",
       " 'water_area_overlap']"
      ]
     },
     "execution_count": 8,
     "metadata": {},
     "output_type": "execute_result"
    }
   ],
   "source": [
    "bg_relationships.columns.to_list()"
   ]
  },
  {
   "cell_type": "markdown",
   "id": "6d38dc4e",
   "metadata": {},
   "source": [
    "## Get Census Datasets for each State, Merge, and Export to SQL Server"
   ]
  },
  {
   "cell_type": "markdown",
   "id": "a475ab33",
   "metadata": {},
   "source": [
    "### Get Block Group Population Centroids from Census Website"
   ]
  },
  {
   "cell_type": "code",
   "execution_count": 2,
   "id": "99d94346",
   "metadata": {},
   "outputs": [],
   "source": [
    "def get_center_pop(state_fips):\n",
    "    \"\"\"\n",
    "    Get the Center of Population Dataset at the block group level from \n",
    "    Census URL given a state's FIPS code\n",
    "    \"\"\"\n",
    "    # Retrieve data\n",
    "    url = 'https://www2.census.gov/geo/docs/reference/cenpop2020/blkgrp/CenPop2020_Mean_BG' \\\n",
    "                        + state_fips + '.txt'\n",
    "    col_names = ['state_fips', 'county_fips', 'tract_fips', 'bg_fips', \n",
    "                 'center_pop_lat', 'center_pop_lon']\n",
    "    data = pd.read_csv(url, header=0, names=col_names,\n",
    "                       dtype=str, usecols=[0,1,2,3,5,6])\n",
    "    \n",
    "    # Create GEOID column\n",
    "    data['geoid'] = data['state_fips'] + data['county_fips'] \\\n",
    "                    + data['tract_fips'] + data['bg_fips']\n",
    "    \n",
    "    # Conver dtype of lat, lon cols\n",
    "    data[['center_pop_lat', 'center_pop_lon']] = data[['center_pop_lat', 'center_pop_lon']].astype(float)\n",
    "    \n",
    "    return data[['geoid', 'center_pop_lat', 'center_pop_lon']]"
   ]
  },
  {
   "cell_type": "code",
   "execution_count": 180,
   "id": "4d7e7a88",
   "metadata": {},
   "outputs": [
    {
     "name": "stdout",
     "output_type": "stream",
     "text": [
      "<class 'pandas.core.frame.DataFrame'>\n",
      "RangeIndex: 4773 entries, 0 to 4772\n",
      "Data columns (total 3 columns):\n",
      " #   Column          Non-Null Count  Dtype  \n",
      "---  ------          --------------  -----  \n",
      " 0   geoid           4773 non-null   object \n",
      " 1   center_pop_lat  4773 non-null   float64\n",
      " 2   center_pop_lon  4773 non-null   float64\n",
      "dtypes: float64(2), object(1)\n",
      "memory usage: 112.0+ KB\n"
     ]
    }
   ],
   "source": [
    "# Get data\n",
    "center_pop = get_center_pop('04')\n",
    "center_pop.info()"
   ]
  },
  {
   "cell_type": "code",
   "execution_count": 181,
   "id": "d6757f44",
   "metadata": {},
   "outputs": [
    {
     "data": {
      "text/html": [
       "<div>\n",
       "<style scoped>\n",
       "    .dataframe tbody tr th:only-of-type {\n",
       "        vertical-align: middle;\n",
       "    }\n",
       "\n",
       "    .dataframe tbody tr th {\n",
       "        vertical-align: top;\n",
       "    }\n",
       "\n",
       "    .dataframe thead th {\n",
       "        text-align: right;\n",
       "    }\n",
       "</style>\n",
       "<table border=\"1\" class=\"dataframe\">\n",
       "  <thead>\n",
       "    <tr style=\"text-align: right;\">\n",
       "      <th></th>\n",
       "      <th>geoid</th>\n",
       "      <th>center_pop_lat</th>\n",
       "      <th>center_pop_lon</th>\n",
       "    </tr>\n",
       "  </thead>\n",
       "  <tbody>\n",
       "    <tr>\n",
       "      <th>0</th>\n",
       "      <td>040019426001</td>\n",
       "      <td>36.683886</td>\n",
       "      <td>-109.841432</td>\n",
       "    </tr>\n",
       "    <tr>\n",
       "      <th>1</th>\n",
       "      <td>040019426002</td>\n",
       "      <td>36.865721</td>\n",
       "      <td>-109.848973</td>\n",
       "    </tr>\n",
       "    <tr>\n",
       "      <th>2</th>\n",
       "      <td>040019427001</td>\n",
       "      <td>36.918849</td>\n",
       "      <td>-109.128570</td>\n",
       "    </tr>\n",
       "    <tr>\n",
       "      <th>3</th>\n",
       "      <td>040019427002</td>\n",
       "      <td>36.777107</td>\n",
       "      <td>-109.575742</td>\n",
       "    </tr>\n",
       "    <tr>\n",
       "      <th>4</th>\n",
       "      <td>040019427003</td>\n",
       "      <td>36.839180</td>\n",
       "      <td>-109.393777</td>\n",
       "    </tr>\n",
       "  </tbody>\n",
       "</table>\n",
       "</div>"
      ],
      "text/plain": [
       "          geoid  center_pop_lat  center_pop_lon\n",
       "0  040019426001       36.683886     -109.841432\n",
       "1  040019426002       36.865721     -109.848973\n",
       "2  040019427001       36.918849     -109.128570\n",
       "3  040019427002       36.777107     -109.575742\n",
       "4  040019427003       36.839180     -109.393777"
      ]
     },
     "execution_count": 181,
     "metadata": {},
     "output_type": "execute_result"
    }
   ],
   "source": [
    "center_pop.head()"
   ]
  },
  {
   "cell_type": "markdown",
   "id": "6a02aeb6",
   "metadata": {},
   "source": [
    "### Get ACS 2020 Population & Housing Units Datasets"
   ]
  },
  {
   "cell_type": "markdown",
   "id": "c6d2f843",
   "metadata": {},
   "source": [
    "- B01003_001E: Population estimates\n",
    "- B01003_001M: Margin of error for population estimates\n",
    "- B25001_001E: Housing unit estimates\n",
    "- B25001_001M: Margin of error for housing unit estimates"
   ]
  },
  {
   "cell_type": "code",
   "execution_count": 3,
   "id": "2510f43d",
   "metadata": {
    "scrolled": true
   },
   "outputs": [
    {
     "data": {
      "text/plain": [
       "Connection to American Community Survey: 5-Year Estimates: Detailed Tables 5-Year (ID: https://api.census.gov/data/id/ACSDT5Y2020)"
      ]
     },
     "execution_count": 3,
     "metadata": {},
     "output_type": "execute_result"
    }
   ],
   "source": [
    "# Connect to API\n",
    "api_conn = cenpy.remote.APIConnection('ACSDT5Y2020')\n",
    "api_conn"
   ]
  },
  {
   "cell_type": "code",
   "execution_count": 12,
   "id": "c00b471d",
   "metadata": {},
   "outputs": [],
   "source": [
    "def get_acs_datasets(state_fips):\n",
    "    \"\"\"\n",
    "    Given a state's FIPS code, retrieve ACS 2020 5-year estimates for \n",
    "    block group population and housing units using the cenpy library\n",
    "    \"\"\"\n",
    "    # Define data to retrieve\n",
    "    variables = ['GEO_ID', \n",
    "                'B01003_001E', 'B01003_001M', # Population\n",
    "                'B25001_001E', 'B25001_001M'] # Housing units\n",
    "    \n",
    "    # Retrieve data\n",
    "    data = api_conn.query(variables, \n",
    "                          geo_unit=\"block group:*\",\n",
    "                          geo_filter={'state':state_fips, \n",
    "                                      'county':'*',\n",
    "                                      'tract':'*'})\n",
    "    # Rename columns\n",
    "    data = data.rename(columns={'state':'state_fips',\n",
    "                                'B01003_001E':'population', \n",
    "                                'B01003_001M':'pop_moe',\n",
    "                                'B25001_001E':'housing_units', \n",
    "                                'B25001_001M':'housing_moe'})\n",
    "    \n",
    "    # Fix geoid values\n",
    "    data['geoid'] = data['GEO_ID'].str[-12:]\n",
    "    \n",
    "    # Change data types\n",
    "    data[['population', 'pop_moe', 'housing_units', 'housing_moe']] = data[['population', 'pop_moe','housing_units', 'housing_moe']].astype(int)\n",
    "    \n",
    "    return data[['geoid', 'population', 'pop_moe', \n",
    "                 'housing_units', 'housing_moe']]"
   ]
  },
  {
   "cell_type": "code",
   "execution_count": 182,
   "id": "d2165754",
   "metadata": {},
   "outputs": [
    {
     "name": "stdout",
     "output_type": "stream",
     "text": [
      "<class 'pandas.core.frame.DataFrame'>\n",
      "RangeIndex: 4773 entries, 0 to 4772\n",
      "Data columns (total 5 columns):\n",
      " #   Column         Non-Null Count  Dtype \n",
      "---  ------         --------------  ----- \n",
      " 0   geoid          4773 non-null   object\n",
      " 1   population     4773 non-null   int32 \n",
      " 2   pop_moe        4773 non-null   int32 \n",
      " 3   housing_units  4773 non-null   int32 \n",
      " 4   housing_moe    4773 non-null   int32 \n",
      "dtypes: int32(4), object(1)\n",
      "memory usage: 112.0+ KB\n"
     ]
    }
   ],
   "source": [
    "acs = get_acs_datasets('04')\n",
    "acs.info()"
   ]
  },
  {
   "cell_type": "code",
   "execution_count": 153,
   "id": "2d02a17e",
   "metadata": {},
   "outputs": [
    {
     "data": {
      "text/html": [
       "<div>\n",
       "<style scoped>\n",
       "    .dataframe tbody tr th:only-of-type {\n",
       "        vertical-align: middle;\n",
       "    }\n",
       "\n",
       "    .dataframe tbody tr th {\n",
       "        vertical-align: top;\n",
       "    }\n",
       "\n",
       "    .dataframe thead th {\n",
       "        text-align: right;\n",
       "    }\n",
       "</style>\n",
       "<table border=\"1\" class=\"dataframe\">\n",
       "  <thead>\n",
       "    <tr style=\"text-align: right;\">\n",
       "      <th></th>\n",
       "      <th>geoid</th>\n",
       "      <th>population</th>\n",
       "      <th>pop_moe</th>\n",
       "      <th>housing_units</th>\n",
       "      <th>housing_moe</th>\n",
       "    </tr>\n",
       "  </thead>\n",
       "  <tbody>\n",
       "    <tr>\n",
       "      <th>0</th>\n",
       "      <td>010610505004</td>\n",
       "      <td>1137</td>\n",
       "      <td>384</td>\n",
       "      <td>522</td>\n",
       "      <td>121</td>\n",
       "    </tr>\n",
       "    <tr>\n",
       "      <th>1</th>\n",
       "      <td>010610503006</td>\n",
       "      <td>758</td>\n",
       "      <td>339</td>\n",
       "      <td>472</td>\n",
       "      <td>230</td>\n",
       "    </tr>\n",
       "    <tr>\n",
       "      <th>2</th>\n",
       "      <td>010610504003</td>\n",
       "      <td>678</td>\n",
       "      <td>243</td>\n",
       "      <td>438</td>\n",
       "      <td>153</td>\n",
       "    </tr>\n",
       "    <tr>\n",
       "      <th>3</th>\n",
       "      <td>010610505001</td>\n",
       "      <td>787</td>\n",
       "      <td>195</td>\n",
       "      <td>398</td>\n",
       "      <td>83</td>\n",
       "    </tr>\n",
       "    <tr>\n",
       "      <th>4</th>\n",
       "      <td>010610506003</td>\n",
       "      <td>1591</td>\n",
       "      <td>347</td>\n",
       "      <td>663</td>\n",
       "      <td>127</td>\n",
       "    </tr>\n",
       "  </tbody>\n",
       "</table>\n",
       "</div>"
      ],
      "text/plain": [
       "          geoid population pop_moe housing_units housing_moe\n",
       "0  010610505004       1137     384           522         121\n",
       "1  010610503006        758     339           472         230\n",
       "2  010610504003        678     243           438         153\n",
       "3  010610505001        787     195           398          83\n",
       "4  010610506003       1591     347           663         127"
      ]
     },
     "execution_count": 153,
     "metadata": {},
     "output_type": "execute_result"
    }
   ],
   "source": [
    "acs.head()"
   ]
  },
  {
   "cell_type": "markdown",
   "id": "f930010f",
   "metadata": {},
   "source": [
    "### Import TIGER/Line Shapefile"
   ]
  },
  {
   "cell_type": "markdown",
   "id": "1c7a48a7",
   "metadata": {},
   "source": [
    "Downloaded via FTP as zip files"
   ]
  },
  {
   "cell_type": "code",
   "execution_count": 13,
   "id": "fdb9db9b",
   "metadata": {},
   "outputs": [],
   "source": [
    "def get_shapefile(state_fips):\n",
    "    \"\"\"\n",
    "    Import block group shapefiles into a GeoDataFrame from appropriate zip\n",
    "    file given a state's FIPS code and return data as DataFrame.\n",
    "    \"\"\"\n",
    "    # Import data\n",
    "    zip_path = 'zip://Data/TIGERLineShapefiles/tl_2020_' + state_fips + '_bg.zip'\n",
    "    df = pd.DataFrame(gpd.read_file(zip_path)) # Use geopandas to import geometry but convert to dataframe\n",
    "    \n",
    "    # Rename columns\n",
    "    df = df.rename(columns={'STATEFP': 'state_fips',\n",
    "                            'COUNTYFP': 'county_fips',\n",
    "                            'TRACTCE': 'tract_fips',\n",
    "                            'BLKGRPCE': 'bg_fips',\n",
    "                            'GEOID': 'geoid',\n",
    "                            'ALAND':'land_area',\n",
    "                            'AWATER': 'water_area', \n",
    "                            'INTPTLAT': 'centroid_lat', \n",
    "                            'INTPTLON': 'centroid_lon', \n",
    "                            'geometry': 'boundaries'})\n",
    "\n",
    "    # Change data types for lat, lon\n",
    "    df[['centroid_lat', 'centroid_lon']] = df[['centroid_lat', 'centroid_lon']].astype(float)\n",
    "    df['boundaries'] = df['boundaries'].astype(str)\n",
    "\n",
    "    # Colums to return\n",
    "    cols = ['geoid', 'state_fips', 'county_fips', 'tract_fips', 'bg_fips',\n",
    "            'centroid_lat','centroid_lon','land_area','water_area',\n",
    "            'boundaries']\n",
    "    \n",
    "    return df[cols]"
   ]
  },
  {
   "cell_type": "code",
   "execution_count": 183,
   "id": "6526c4c9",
   "metadata": {
    "scrolled": true
   },
   "outputs": [
    {
     "name": "stdout",
     "output_type": "stream",
     "text": [
      "<class 'pandas.core.frame.DataFrame'>\n",
      "RangeIndex: 4773 entries, 0 to 4772\n",
      "Data columns (total 10 columns):\n",
      " #   Column        Non-Null Count  Dtype  \n",
      "---  ------        --------------  -----  \n",
      " 0   geoid         4773 non-null   object \n",
      " 1   state_fips    4773 non-null   object \n",
      " 2   county_fips   4773 non-null   object \n",
      " 3   tract_fips    4773 non-null   object \n",
      " 4   bg_fips       4773 non-null   object \n",
      " 5   centroid_lat  4773 non-null   float64\n",
      " 6   centroid_lon  4773 non-null   float64\n",
      " 7   land_area     4773 non-null   int64  \n",
      " 8   water_area    4773 non-null   int64  \n",
      " 9   boundaries    4773 non-null   object \n",
      "dtypes: float64(2), int64(2), object(6)\n",
      "memory usage: 373.0+ KB\n"
     ]
    }
   ],
   "source": [
    "shp = get_shapefile('04')\n",
    "shp.info()"
   ]
  },
  {
   "cell_type": "code",
   "execution_count": 77,
   "id": "75418756",
   "metadata": {
    "scrolled": true
   },
   "outputs": [
    {
     "data": {
      "text/html": [
       "<div>\n",
       "<style scoped>\n",
       "    .dataframe tbody tr th:only-of-type {\n",
       "        vertical-align: middle;\n",
       "    }\n",
       "\n",
       "    .dataframe tbody tr th {\n",
       "        vertical-align: top;\n",
       "    }\n",
       "\n",
       "    .dataframe thead th {\n",
       "        text-align: right;\n",
       "    }\n",
       "</style>\n",
       "<table border=\"1\" class=\"dataframe\">\n",
       "  <thead>\n",
       "    <tr style=\"text-align: right;\">\n",
       "      <th></th>\n",
       "      <th>geoid</th>\n",
       "      <th>state_fips</th>\n",
       "      <th>county_fips</th>\n",
       "      <th>tract_fips</th>\n",
       "      <th>bg_fips</th>\n",
       "      <th>centroid_lat</th>\n",
       "      <th>centroid_lon</th>\n",
       "      <th>land_area</th>\n",
       "      <th>water_area</th>\n",
       "      <th>boundaries</th>\n",
       "    </tr>\n",
       "  </thead>\n",
       "  <tbody>\n",
       "    <tr>\n",
       "      <th>0</th>\n",
       "      <td>220790125001</td>\n",
       "      <td>22</td>\n",
       "      <td>079</td>\n",
       "      <td>012500</td>\n",
       "      <td>1</td>\n",
       "      <td>31.260977</td>\n",
       "      <td>-92.460768</td>\n",
       "      <td>1732153</td>\n",
       "      <td>0</td>\n",
       "      <td>POLYGON ((-92.47676 31.25906, -92.47660 31.259...</td>\n",
       "    </tr>\n",
       "    <tr>\n",
       "      <th>1</th>\n",
       "      <td>220330010003</td>\n",
       "      <td>22</td>\n",
       "      <td>033</td>\n",
       "      <td>001000</td>\n",
       "      <td>3</td>\n",
       "      <td>30.458868</td>\n",
       "      <td>-91.153126</td>\n",
       "      <td>496094</td>\n",
       "      <td>0</td>\n",
       "      <td>POLYGON ((-91.15540 30.46422, -91.15540 30.464...</td>\n",
       "    </tr>\n",
       "    <tr>\n",
       "      <th>2</th>\n",
       "      <td>220330035053</td>\n",
       "      <td>22</td>\n",
       "      <td>033</td>\n",
       "      <td>003505</td>\n",
       "      <td>3</td>\n",
       "      <td>30.491510</td>\n",
       "      <td>-91.114284</td>\n",
       "      <td>1883557</td>\n",
       "      <td>0</td>\n",
       "      <td>POLYGON ((-91.12614 30.49574, -91.12537 30.495...</td>\n",
       "    </tr>\n",
       "    <tr>\n",
       "      <th>3</th>\n",
       "      <td>220330035054</td>\n",
       "      <td>22</td>\n",
       "      <td>033</td>\n",
       "      <td>003505</td>\n",
       "      <td>4</td>\n",
       "      <td>30.483303</td>\n",
       "      <td>-91.104274</td>\n",
       "      <td>1897809</td>\n",
       "      <td>0</td>\n",
       "      <td>POLYGON ((-91.11880 30.48511, -91.11859 30.485...</td>\n",
       "    </tr>\n",
       "    <tr>\n",
       "      <th>4</th>\n",
       "      <td>220330035061</td>\n",
       "      <td>22</td>\n",
       "      <td>033</td>\n",
       "      <td>003506</td>\n",
       "      <td>1</td>\n",
       "      <td>30.485563</td>\n",
       "      <td>-91.063814</td>\n",
       "      <td>1068709</td>\n",
       "      <td>0</td>\n",
       "      <td>POLYGON ((-91.06973 30.48578, -91.06948 30.485...</td>\n",
       "    </tr>\n",
       "  </tbody>\n",
       "</table>\n",
       "</div>"
      ],
      "text/plain": [
       "          geoid state_fips county_fips tract_fips bg_fips  centroid_lat  \\\n",
       "0  220790125001         22         079     012500       1     31.260977   \n",
       "1  220330010003         22         033     001000       3     30.458868   \n",
       "2  220330035053         22         033     003505       3     30.491510   \n",
       "3  220330035054         22         033     003505       4     30.483303   \n",
       "4  220330035061         22         033     003506       1     30.485563   \n",
       "\n",
       "   centroid_lon  land_area  water_area  \\\n",
       "0    -92.460768    1732153           0   \n",
       "1    -91.153126     496094           0   \n",
       "2    -91.114284    1883557           0   \n",
       "3    -91.104274    1897809           0   \n",
       "4    -91.063814    1068709           0   \n",
       "\n",
       "                                          boundaries  \n",
       "0  POLYGON ((-92.47676 31.25906, -92.47660 31.259...  \n",
       "1  POLYGON ((-91.15540 30.46422, -91.15540 30.464...  \n",
       "2  POLYGON ((-91.12614 30.49574, -91.12537 30.495...  \n",
       "3  POLYGON ((-91.11880 30.48511, -91.11859 30.485...  \n",
       "4  POLYGON ((-91.06973 30.48578, -91.06948 30.485...  "
      ]
     },
     "execution_count": 77,
     "metadata": {},
     "output_type": "execute_result"
    }
   ],
   "source": [
    "shp.head()"
   ]
  },
  {
   "cell_type": "markdown",
   "id": "b54ec38f",
   "metadata": {},
   "source": [
    "### Merge Datasets & Export to SQL Server"
   ]
  },
  {
   "cell_type": "code",
   "execution_count": 184,
   "id": "5d2225b7",
   "metadata": {},
   "outputs": [],
   "source": [
    "# Define data types for table in SQL Server\n",
    "sql_types = {'geoid': String(12),\n",
    "             'state_fips': String(5),\n",
    "             'county_fips': String(5),\n",
    "             'tract_fips': String(10),\n",
    "             'bg_fips': String(2),\n",
    "             'centroid_lat': Numeric(15,7),\n",
    "             'centroid_lon': Numeric(15,7),\n",
    "             'land_area': BigInteger(),\n",
    "             'water_area': BigInteger(),\n",
    "             'boundaries': VARCHAR(None),\n",
    "             'center_pop_lat': Numeric(15,7),\n",
    "             'center_pop_lon': Numeric(15,7),\n",
    "             'population': Integer(),\n",
    "             'pop_moe': Integer(),\n",
    "             'housing_units': Integer(),\n",
    "             'housing_moe': Integer()}"
   ]
  },
  {
   "cell_type": "code",
   "execution_count": 185,
   "id": "bede5149",
   "metadata": {},
   "outputs": [],
   "source": [
    "# Connect to prxsql2019ml.PublicHealth\n",
    "quoted = urllib.parse.quote_plus(\"DRIVER={SQL Server};SERVER=prxsql2019ml;DATABASE=PublicHealth\")\n",
    "engine = sqlalchemy.create_engine('mssql+pyodbc:///?odbc_connect={}'.format(quoted))"
   ]
  },
  {
   "cell_type": "code",
   "execution_count": 28,
   "id": "1ce69592",
   "metadata": {},
   "outputs": [],
   "source": [
    "def merge_and_export(state_fips):\n",
    "    # Use left joins in case mismatch in # of records between datasets\n",
    "    block_group = pd.merge(pd.merge(shp, center_pop, how='left'), acs, how='left')\n",
    "    \n",
    "    # Export data\n",
    "    block_group.to_sql('BlockGroup', schema='Census', con=engine, \n",
    "                       chunksize=100, method='multi', dtype=sql_types,\n",
    "                       index=False, if_exists='append')\n",
    "    print(f'Exported dataset for state # {state_fips} to SQL Server.\\n')"
   ]
  },
  {
   "cell_type": "code",
   "execution_count": 187,
   "id": "99f17cd1",
   "metadata": {},
   "outputs": [
    {
     "name": "stdout",
     "output_type": "stream",
     "text": [
      "Exported dataset for state # 04 to SQL Server.\n"
     ]
    }
   ],
   "source": [
    "merge_and_export('04')"
   ]
  },
  {
   "cell_type": "markdown",
   "id": "573b127b",
   "metadata": {},
   "source": [
    "## Combine functions to run in a loop"
   ]
  },
  {
   "cell_type": "code",
   "execution_count": 10,
   "id": "c1b56eef",
   "metadata": {},
   "outputs": [
    {
     "data": {
      "text/plain": [
       "51"
      ]
     },
     "execution_count": 10,
     "metadata": {},
     "output_type": "execute_result"
    }
   ],
   "source": [
    "# Get list of state FIPS codes\n",
    "state_fips_list = state_codes['state_fips'].to_list()\n",
    "len(state_fips_list)"
   ]
  },
  {
   "cell_type": "code",
   "execution_count": 15,
   "id": "3570455a",
   "metadata": {},
   "outputs": [
    {
     "data": {
      "text/plain": [
       "Connection to American Community Survey: 5-Year Estimates: Detailed Tables 5-Year (ID: https://api.census.gov/data/id/ACSDT5Y2020)"
      ]
     },
     "execution_count": 15,
     "metadata": {},
     "output_type": "execute_result"
    }
   ],
   "source": [
    "# Connect to API\n",
    "api_conn = cenpy.remote.APIConnection('ACSDT5Y2020')\n",
    "api_conn"
   ]
  },
  {
   "cell_type": "code",
   "execution_count": 16,
   "id": "cf26699c",
   "metadata": {},
   "outputs": [],
   "source": [
    "# Define data types for table in SQL Server\n",
    "sql_types = {'geoid': String(12),\n",
    "             'state_fips': String(5),\n",
    "             'county_fips': String(5),\n",
    "             'tract_fips': String(10),\n",
    "             'bg_fips': String(2),\n",
    "             'centroid_lat': Numeric(15,7),\n",
    "             'centroid_lon': Numeric(15,7),\n",
    "             'land_area': BigInteger(),\n",
    "             'water_area': BigInteger(),\n",
    "             'boundaries': VARCHAR(None),\n",
    "             'center_pop_lat': Numeric(15,7),\n",
    "             'center_pop_lon': Numeric(15,7),\n",
    "             'population': Integer(),\n",
    "             'pop_moe': Integer(),\n",
    "             'housing_units': Integer(),\n",
    "             'housing_moe': Integer()}"
   ]
  },
  {
   "cell_type": "code",
   "execution_count": 17,
   "id": "299c69e1",
   "metadata": {},
   "outputs": [],
   "source": [
    "# Connect to prxsql2019ml.PublicHealth\n",
    "quoted = urllib.parse.quote_plus(\"DRIVER={SQL Server};SERVER=prxsql2019ml;DATABASE=PublicHealth\")\n",
    "engine = sqlalchemy.create_engine('mssql+pyodbc:///?odbc_connect={}'.format(quoted))"
   ]
  },
  {
   "cell_type": "code",
   "execution_count": 29,
   "id": "e1b9c9aa",
   "metadata": {
    "scrolled": true
   },
   "outputs": [
    {
     "name": "stderr",
     "output_type": "stream",
     "text": [
      "  2%|█▋                                                                                 | 1/51 [00:19<16:10, 19.42s/it]"
     ]
    },
    {
     "name": "stdout",
     "output_type": "stream",
     "text": [
      "Exported dataset for state # 01 to SQL Server.\n",
      "\n"
     ]
    },
    {
     "name": "stderr",
     "output_type": "stream",
     "text": [
      "\r",
      "  4%|███▎                                                                               | 2/51 [00:24<09:11, 11.26s/it]"
     ]
    },
    {
     "name": "stdout",
     "output_type": "stream",
     "text": [
      "Exported dataset for state # 02 to SQL Server.\n",
      "\n"
     ]
    },
    {
     "name": "stderr",
     "output_type": "stream",
     "text": [
      "\r",
      "  6%|████▉                                                                              | 3/51 [00:37<09:38, 12.05s/it]"
     ]
    },
    {
     "name": "stdout",
     "output_type": "stream",
     "text": [
      "Exported dataset for state # 04 to SQL Server.\n",
      "\n"
     ]
    },
    {
     "name": "stderr",
     "output_type": "stream",
     "text": [
      "\r",
      "  8%|██████▌                                                                            | 4/51 [00:50<09:27, 12.07s/it]"
     ]
    },
    {
     "name": "stdout",
     "output_type": "stream",
     "text": [
      "Exported dataset for state # 05 to SQL Server.\n",
      "\n"
     ]
    },
    {
     "name": "stderr",
     "output_type": "stream",
     "text": [
      "\r",
      " 10%|████████▏                                                                          | 5/51 [02:27<32:50, 42.84s/it]"
     ]
    },
    {
     "name": "stdout",
     "output_type": "stream",
     "text": [
      "Exported dataset for state # 06 to SQL Server.\n",
      "\n"
     ]
    },
    {
     "name": "stderr",
     "output_type": "stream",
     "text": [
      "\r",
      " 12%|█████████▊                                                                         | 6/51 [02:43<25:20, 33.78s/it]"
     ]
    },
    {
     "name": "stdout",
     "output_type": "stream",
     "text": [
      "Exported dataset for state # 08 to SQL Server.\n",
      "\n"
     ]
    },
    {
     "name": "stderr",
     "output_type": "stream",
     "text": [
      "\r",
      " 14%|███████████▍                                                                       | 7/51 [02:52<18:45, 25.57s/it]"
     ]
    },
    {
     "name": "stdout",
     "output_type": "stream",
     "text": [
      "Exported dataset for state # 09 to SQL Server.\n",
      "\n"
     ]
    },
    {
     "name": "stderr",
     "output_type": "stream",
     "text": [
      "\r",
      " 16%|█████████████                                                                      | 8/51 [02:55<13:12, 18.43s/it]"
     ]
    },
    {
     "name": "stdout",
     "output_type": "stream",
     "text": [
      "Exported dataset for state # 10 to SQL Server.\n",
      "\n"
     ]
    },
    {
     "name": "stderr",
     "output_type": "stream",
     "text": [
      "\r",
      " 18%|██████████████▋                                                                    | 9/51 [02:57<09:25, 13.46s/it]"
     ]
    },
    {
     "name": "stdout",
     "output_type": "stream",
     "text": [
      "Exported dataset for state # 11 to SQL Server.\n",
      "\n"
     ]
    },
    {
     "name": "stderr",
     "output_type": "stream",
     "text": [
      "\r",
      " 20%|████████████████                                                                  | 10/51 [03:35<14:19, 20.96s/it]"
     ]
    },
    {
     "name": "stdout",
     "output_type": "stream",
     "text": [
      "Exported dataset for state # 12 to SQL Server.\n",
      "\n"
     ]
    },
    {
     "name": "stderr",
     "output_type": "stream",
     "text": [
      "\r",
      " 22%|█████████████████▋                                                                | 11/51 [04:00<14:38, 21.97s/it]"
     ]
    },
    {
     "name": "stdout",
     "output_type": "stream",
     "text": [
      "Exported dataset for state # 13 to SQL Server.\n",
      "\n"
     ]
    },
    {
     "name": "stderr",
     "output_type": "stream",
     "text": [
      "\r",
      " 24%|███████████████████▎                                                              | 12/51 [04:04<10:50, 16.68s/it]"
     ]
    },
    {
     "name": "stdout",
     "output_type": "stream",
     "text": [
      "Exported dataset for state # 15 to SQL Server.\n",
      "\n"
     ]
    },
    {
     "name": "stderr",
     "output_type": "stream",
     "text": [
      "\r",
      " 25%|████████████████████▉                                                             | 13/51 [04:11<08:41, 13.72s/it]"
     ]
    },
    {
     "name": "stdout",
     "output_type": "stream",
     "text": [
      "Exported dataset for state # 16 to SQL Server.\n",
      "\n"
     ]
    },
    {
     "name": "stderr",
     "output_type": "stream",
     "text": [
      "\r",
      " 27%|██████████████████████▌                                                           | 14/51 [04:38<10:59, 17.83s/it]"
     ]
    },
    {
     "name": "stdout",
     "output_type": "stream",
     "text": [
      "Exported dataset for state # 17 to SQL Server.\n",
      "\n"
     ]
    },
    {
     "name": "stderr",
     "output_type": "stream",
     "text": [
      "\r",
      " 29%|████████████████████████                                                          | 15/51 [04:55<10:28, 17.45s/it]"
     ]
    },
    {
     "name": "stdout",
     "output_type": "stream",
     "text": [
      "Exported dataset for state # 18 to SQL Server.\n",
      "\n"
     ]
    },
    {
     "name": "stderr",
     "output_type": "stream",
     "text": [
      "\r",
      " 31%|█████████████████████████▋                                                        | 16/51 [05:05<08:51, 15.18s/it]"
     ]
    },
    {
     "name": "stdout",
     "output_type": "stream",
     "text": [
      "Exported dataset for state # 19 to SQL Server.\n",
      "\n"
     ]
    },
    {
     "name": "stderr",
     "output_type": "stream",
     "text": [
      "\r",
      " 33%|███████████████████████████▎                                                      | 17/51 [05:13<07:26, 13.13s/it]"
     ]
    },
    {
     "name": "stdout",
     "output_type": "stream",
     "text": [
      "Exported dataset for state # 20 to SQL Server.\n",
      "\n"
     ]
    },
    {
     "name": "stderr",
     "output_type": "stream",
     "text": [
      "\r",
      " 35%|████████████████████████████▉                                                     | 18/51 [05:29<07:43, 14.04s/it]"
     ]
    },
    {
     "name": "stdout",
     "output_type": "stream",
     "text": [
      "Exported dataset for state # 21 to SQL Server.\n",
      "\n"
     ]
    },
    {
     "name": "stderr",
     "output_type": "stream",
     "text": [
      "\r",
      " 37%|██████████████████████████████▌                                                   | 19/51 [05:42<07:12, 13.53s/it]"
     ]
    },
    {
     "name": "stdout",
     "output_type": "stream",
     "text": [
      "Exported dataset for state # 22 to SQL Server.\n",
      "\n"
     ]
    },
    {
     "name": "stderr",
     "output_type": "stream",
     "text": [
      "\r",
      " 39%|████████████████████████████████▏                                                 | 20/51 [05:50<06:08, 11.89s/it]"
     ]
    },
    {
     "name": "stdout",
     "output_type": "stream",
     "text": [
      "Exported dataset for state # 23 to SQL Server.\n",
      "\n"
     ]
    },
    {
     "name": "stderr",
     "output_type": "stream",
     "text": [
      "\r",
      " 41%|█████████████████████████████████▊                                                | 21/51 [06:04<06:14, 12.49s/it]"
     ]
    },
    {
     "name": "stdout",
     "output_type": "stream",
     "text": [
      "Exported dataset for state # 24 to SQL Server.\n",
      "\n"
     ]
    },
    {
     "name": "stderr",
     "output_type": "stream",
     "text": [
      "\r",
      " 43%|███████████████████████████████████▎                                              | 22/51 [06:19<06:26, 13.32s/it]"
     ]
    },
    {
     "name": "stdout",
     "output_type": "stream",
     "text": [
      "Exported dataset for state # 25 to SQL Server.\n",
      "\n"
     ]
    },
    {
     "name": "stderr",
     "output_type": "stream",
     "text": [
      "\r",
      " 45%|████████████████████████████████████▉                                             | 23/51 [06:41<07:25, 15.91s/it]"
     ]
    },
    {
     "name": "stdout",
     "output_type": "stream",
     "text": [
      "Exported dataset for state # 26 to SQL Server.\n",
      "\n"
     ]
    },
    {
     "name": "stderr",
     "output_type": "stream",
     "text": [
      "\r",
      " 47%|██████████████████████████████████████▌                                           | 24/51 [06:56<07:02, 15.64s/it]"
     ]
    },
    {
     "name": "stdout",
     "output_type": "stream",
     "text": [
      "Exported dataset for state # 27 to SQL Server.\n",
      "\n"
     ]
    },
    {
     "name": "stderr",
     "output_type": "stream",
     "text": [
      "\r",
      " 49%|████████████████████████████████████████▏                                         | 25/51 [07:07<06:13, 14.36s/it]"
     ]
    },
    {
     "name": "stdout",
     "output_type": "stream",
     "text": [
      "Exported dataset for state # 28 to SQL Server.\n",
      "\n"
     ]
    },
    {
     "name": "stderr",
     "output_type": "stream",
     "text": [
      "\r",
      " 51%|█████████████████████████████████████████▊                                        | 26/51 [07:27<06:36, 15.86s/it]"
     ]
    },
    {
     "name": "stdout",
     "output_type": "stream",
     "text": [
      "Exported dataset for state # 29 to SQL Server.\n",
      "\n"
     ]
    },
    {
     "name": "stderr",
     "output_type": "stream",
     "text": [
      "\r",
      " 53%|███████████████████████████████████████████▍                                      | 27/51 [07:34<05:22, 13.46s/it]"
     ]
    },
    {
     "name": "stdout",
     "output_type": "stream",
     "text": [
      "Exported dataset for state # 30 to SQL Server.\n",
      "\n"
     ]
    },
    {
     "name": "stderr",
     "output_type": "stream",
     "text": [
      "\r",
      " 55%|█████████████████████████████████████████████                                     | 28/51 [07:41<04:20, 11.33s/it]"
     ]
    },
    {
     "name": "stdout",
     "output_type": "stream",
     "text": [
      "Exported dataset for state # 31 to SQL Server.\n",
      "\n"
     ]
    },
    {
     "name": "stderr",
     "output_type": "stream",
     "text": [
      "\r",
      " 57%|██████████████████████████████████████████████▋                                   | 29/51 [07:49<03:47, 10.35s/it]"
     ]
    },
    {
     "name": "stdout",
     "output_type": "stream",
     "text": [
      "Exported dataset for state # 32 to SQL Server.\n",
      "\n"
     ]
    },
    {
     "name": "stderr",
     "output_type": "stream",
     "text": [
      "\r",
      " 59%|████████████████████████████████████████████████▏                                 | 30/51 [07:53<03:01,  8.63s/it]"
     ]
    },
    {
     "name": "stdout",
     "output_type": "stream",
     "text": [
      "Exported dataset for state # 33 to SQL Server.\n",
      "\n"
     ]
    },
    {
     "name": "stderr",
     "output_type": "stream",
     "text": [
      "\r",
      " 61%|█████████████████████████████████████████████████▊                                | 31/51 [08:12<03:53, 11.66s/it]"
     ]
    },
    {
     "name": "stdout",
     "output_type": "stream",
     "text": [
      "Exported dataset for state # 34 to SQL Server.\n",
      "\n"
     ]
    },
    {
     "name": "stderr",
     "output_type": "stream",
     "text": [
      "\r",
      " 63%|███████████████████████████████████████████████████▍                              | 32/51 [08:21<03:26, 10.86s/it]"
     ]
    },
    {
     "name": "stdout",
     "output_type": "stream",
     "text": [
      "Exported dataset for state # 35 to SQL Server.\n",
      "\n"
     ]
    },
    {
     "name": "stderr",
     "output_type": "stream",
     "text": [
      "\r",
      " 65%|█████████████████████████████████████████████████████                             | 33/51 [09:01<05:53, 19.63s/it]"
     ]
    },
    {
     "name": "stdout",
     "output_type": "stream",
     "text": [
      "Exported dataset for state # 36 to SQL Server.\n",
      "\n"
     ]
    },
    {
     "name": "stderr",
     "output_type": "stream",
     "text": [
      "\r",
      " 67%|██████████████████████████████████████████████████████▋                           | 34/51 [09:27<06:03, 21.36s/it]"
     ]
    },
    {
     "name": "stdout",
     "output_type": "stream",
     "text": [
      "Exported dataset for state # 37 to SQL Server.\n",
      "\n"
     ]
    },
    {
     "name": "stderr",
     "output_type": "stream",
     "text": [
      "\r",
      " 69%|████████████████████████████████████████████████████████▎                         | 35/51 [09:30<04:16, 16.02s/it]"
     ]
    },
    {
     "name": "stdout",
     "output_type": "stream",
     "text": [
      "Exported dataset for state # 38 to SQL Server.\n",
      "\n"
     ]
    },
    {
     "name": "stderr",
     "output_type": "stream",
     "text": [
      "\r",
      " 71%|█████████████████████████████████████████████████████████▉                        | 36/51 [09:56<04:46, 19.07s/it]"
     ]
    },
    {
     "name": "stdout",
     "output_type": "stream",
     "text": [
      "Exported dataset for state # 39 to SQL Server.\n",
      "\n"
     ]
    },
    {
     "name": "stderr",
     "output_type": "stream",
     "text": [
      "\r",
      " 73%|███████████████████████████████████████████████████████████▍                      | 37/51 [10:09<03:58, 17.07s/it]"
     ]
    },
    {
     "name": "stdout",
     "output_type": "stream",
     "text": [
      "Exported dataset for state # 40 to SQL Server.\n",
      "\n"
     ]
    },
    {
     "name": "stderr",
     "output_type": "stream",
     "text": [
      "\r",
      " 75%|█████████████████████████████████████████████████████████████                     | 38/51 [10:24<03:35, 16.58s/it]"
     ]
    },
    {
     "name": "stdout",
     "output_type": "stream",
     "text": [
      "Exported dataset for state # 41 to SQL Server.\n",
      "\n"
     ]
    },
    {
     "name": "stderr",
     "output_type": "stream",
     "text": [
      "\r",
      " 76%|██████████████████████████████████████████████████████████████▋                   | 39/51 [10:54<04:05, 20.44s/it]"
     ]
    },
    {
     "name": "stdout",
     "output_type": "stream",
     "text": [
      "Exported dataset for state # 42 to SQL Server.\n",
      "\n"
     ]
    },
    {
     "name": "stderr",
     "output_type": "stream",
     "text": [
      "\r",
      " 78%|████████████████████████████████████████████████████████████████▎                 | 40/51 [10:57<02:48, 15.32s/it]"
     ]
    },
    {
     "name": "stdout",
     "output_type": "stream",
     "text": [
      "Exported dataset for state # 44 to SQL Server.\n",
      "\n"
     ]
    },
    {
     "name": "stderr",
     "output_type": "stream",
     "text": [
      "\r",
      " 80%|█████████████████████████████████████████████████████████████████▉                | 41/51 [11:11<02:28, 14.85s/it]"
     ]
    },
    {
     "name": "stdout",
     "output_type": "stream",
     "text": [
      "Exported dataset for state # 45 to SQL Server.\n",
      "\n"
     ]
    },
    {
     "name": "stderr",
     "output_type": "stream",
     "text": [
      "\r",
      " 82%|███████████████████████████████████████████████████████████████████▌              | 42/51 [11:15<01:46, 11.78s/it]"
     ]
    },
    {
     "name": "stdout",
     "output_type": "stream",
     "text": [
      "Exported dataset for state # 46 to SQL Server.\n",
      "\n"
     ]
    },
    {
     "name": "stderr",
     "output_type": "stream",
     "text": [
      "\r",
      " 84%|█████████████████████████████████████████████████████████████████████▏            | 43/51 [11:33<01:48, 13.56s/it]"
     ]
    },
    {
     "name": "stdout",
     "output_type": "stream",
     "text": [
      "Exported dataset for state # 47 to SQL Server.\n",
      "\n"
     ]
    },
    {
     "name": "stderr",
     "output_type": "stream",
     "text": [
      "\r",
      " 86%|██████████████████████████████████████████████████████████████████████▋           | 44/51 [13:53<05:59, 51.40s/it]"
     ]
    },
    {
     "name": "stdout",
     "output_type": "stream",
     "text": [
      "Exported dataset for state # 48 to SQL Server.\n",
      "\n"
     ]
    },
    {
     "name": "stderr",
     "output_type": "stream",
     "text": [
      "\r",
      " 88%|████████████████████████████████████████████████████████████████████████▎         | 45/51 [14:04<03:56, 39.39s/it]"
     ]
    },
    {
     "name": "stdout",
     "output_type": "stream",
     "text": [
      "Exported dataset for state # 49 to SQL Server.\n",
      "\n"
     ]
    },
    {
     "name": "stderr",
     "output_type": "stream",
     "text": [
      "\r",
      " 90%|█████████████████████████████████████████████████████████████████████████▉        | 46/51 [14:07<02:22, 28.49s/it]"
     ]
    },
    {
     "name": "stdout",
     "output_type": "stream",
     "text": [
      "Exported dataset for state # 50 to SQL Server.\n",
      "\n"
     ]
    },
    {
     "name": "stderr",
     "output_type": "stream",
     "text": [
      "\r",
      " 92%|███████████████████████████████████████████████████████████████████████████▌      | 47/51 [14:30<01:47, 26.88s/it]"
     ]
    },
    {
     "name": "stdout",
     "output_type": "stream",
     "text": [
      "Exported dataset for state # 51 to SQL Server.\n",
      "\n"
     ]
    },
    {
     "name": "stderr",
     "output_type": "stream",
     "text": [
      "\r",
      " 94%|█████████████████████████████████████████████████████████████████████████████▏    | 48/51 [14:54<01:17, 25.75s/it]"
     ]
    },
    {
     "name": "stdout",
     "output_type": "stream",
     "text": [
      "Exported dataset for state # 53 to SQL Server.\n",
      "\n"
     ]
    },
    {
     "name": "stderr",
     "output_type": "stream",
     "text": [
      "\r",
      " 96%|██████████████████████████████████████████████████████████████████████████████▊   | 49/51 [15:03<00:41, 20.98s/it]"
     ]
    },
    {
     "name": "stdout",
     "output_type": "stream",
     "text": [
      "Exported dataset for state # 54 to SQL Server.\n",
      "\n"
     ]
    },
    {
     "name": "stderr",
     "output_type": "stream",
     "text": [
      "\r",
      " 98%|████████████████████████████████████████████████████████████████████████████████▍ | 50/51 [15:19<00:19, 19.43s/it]"
     ]
    },
    {
     "name": "stdout",
     "output_type": "stream",
     "text": [
      "Exported dataset for state # 55 to SQL Server.\n",
      "\n"
     ]
    },
    {
     "name": "stderr",
     "output_type": "stream",
     "text": [
      "100%|██████████████████████████████████████████████████████████████████████████████████| 51/51 [15:23<00:00, 18.11s/it]"
     ]
    },
    {
     "name": "stdout",
     "output_type": "stream",
     "text": [
      "Exported dataset for state # 56 to SQL Server.\n",
      "\n"
     ]
    },
    {
     "name": "stderr",
     "output_type": "stream",
     "text": [
      "\n"
     ]
    }
   ],
   "source": [
    "for fips in tqdm(state_fips_list):\n",
    "    try:\n",
    "        # Retrieve datasets\n",
    "        center_pop = get_center_pop(fips)\n",
    "        acs = get_acs_datasets(fips)\n",
    "        shp = get_shapefile(fips)\n",
    "        \n",
    "        # Get row number for each dataset\n",
    "        center_pop_nrow = center_pop.shape[0]\n",
    "        acs_nrow = acs.shape[0]\n",
    "        shp_nrow = shp.shape[0]\n",
    "        \n",
    "        # Check if datasets have same # of block groups\n",
    "        if center_pop_nrow == acs_nrow == shp_nrow:\n",
    "            pass\n",
    "        else:\n",
    "            print(f\"State # {fips} has mismatch in block group number between datasets.\")\n",
    "            print(f\"center_pop row #: {center_pop_nrow}\")\n",
    "            print(f\"acs row #: {acs_nrow}\")\n",
    "            print(f\"shapefiles row #: {shp_nrow}\")\n",
    "            print()\n",
    "        \n",
    "        # Get final dataset and export to SQL server\n",
    "        merge_and_export(fips)\n",
    "    except:\n",
    "        print(\"Oops! \", sys.exc_info()[0:2])\n",
    "        print()"
   ]
  }
 ],
 "metadata": {
  "kernelspec": {
   "display_name": "Python 3 (ipykernel)",
   "language": "python",
   "name": "python3"
  },
  "language_info": {
   "codemirror_mode": {
    "name": "ipython",
    "version": 3
   },
   "file_extension": ".py",
   "mimetype": "text/x-python",
   "name": "python",
   "nbconvert_exporter": "python",
   "pygments_lexer": "ipython3",
   "version": "3.12.7"
  },
  "toc": {
   "base_numbering": 1,
   "nav_menu": {},
   "number_sections": true,
   "sideBar": true,
   "skip_h1_title": true,
   "title_cell": "Table of Contents",
   "title_sidebar": "Contents",
   "toc_cell": false,
   "toc_position": {},
   "toc_section_display": true,
   "toc_window_display": false
  }
 },
 "nbformat": 4,
 "nbformat_minor": 5
}
